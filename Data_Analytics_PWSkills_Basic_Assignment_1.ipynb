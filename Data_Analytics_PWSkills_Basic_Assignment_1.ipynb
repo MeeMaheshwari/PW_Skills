{
  "nbformat": 4,
  "nbformat_minor": 0,
  "metadata": {
    "colab": {
      "provenance": [],
      "authorship_tag": "ABX9TyPP38ghdGm4uRtHOX2wjgJL",
      "include_colab_link": true
    },
    "kernelspec": {
      "name": "python3",
      "display_name": "Python 3"
    },
    "language_info": {
      "name": "python"
    }
  },
  "cells": [
    {
      "cell_type": "markdown",
      "metadata": {
        "id": "view-in-github",
        "colab_type": "text"
      },
      "source": [
        "<a href=\"https://colab.research.google.com/github/MeeMaheshwari/PW_Skills/blob/main/Data_Analytics_PWSkills_Basic_Assignment_1.ipynb\" target=\"_parent\"><img src=\"https://colab.research.google.com/assets/colab-badge.svg\" alt=\"Open In Colab\"/></a>"
      ]
    },
    {
      "cell_type": "code",
      "execution_count": 47,
      "metadata": {
        "id": "HMBw8EjFpQK5"
      },
      "outputs": [],
      "source": [
        "# Assignment: 1\n",
        "# Python_Basics_Assignment"
      ]
    },
    {
      "cell_type": "markdown",
      "source": [
        "**Q.1 : Explain the key features of python that make it a popular choice for programming?**\n",
        "\n",
        "Answer:\n",
        "\n",
        "The key features of python which makes it the most popular chocie among programmers, are as following"
      ],
      "metadata": {
        "id": "Mq1RFw3pJBts"
      }
    },
    {
      "cell_type": "code",
      "source": [
        "#1.Python programming language is easy to read and write, it has readability in syntax which is easy to understand\n",
        "\n",
        "#Example:\n",
        "number = 12\n",
        "print(number)\n",
        "#Insights: 12 is stored in the variable number, and it is an integer\n",
        "          #printing the number variable in which 12 is stored, Output will be 12 in the console\n",
        "\n"
      ],
      "metadata": {
        "colab": {
          "base_uri": "https://localhost:8080/"
        },
        "id": "AG9u0eLTJQua",
        "outputId": "a930cf5d-6ecf-48be-9a7e-f7177a061e30"
      },
      "execution_count": 48,
      "outputs": [
        {
          "output_type": "stream",
          "name": "stdout",
          "text": [
            "12\n"
          ]
        }
      ]
    },
    {
      "cell_type": "code",
      "source": [
        "#2.Python is an interpreted language, which means python code executes line by line (in order), how the code is written or structured and thisFacilitates rapid development and allowing for quick testing and debugging\n",
        "\n",
        "#Example:\n",
        "print(\"Hello World\")\n",
        "print(\"Hello Maheshwari\")\n",
        "#Insights: as soon as we run the file/code, the interpreter executes the code\n",
        "          # after printing Hello World it will pring Hello Maheshwari, because Hello World was writeen first in order to execute"
      ],
      "metadata": {
        "colab": {
          "base_uri": "https://localhost:8080/"
        },
        "id": "Ef90ntXQJUwl",
        "outputId": "e9c79caa-03b2-4c4f-e137-8cb696e12f0b"
      },
      "execution_count": 49,
      "outputs": [
        {
          "output_type": "stream",
          "name": "stdout",
          "text": [
            "Hello World\n",
            "Hello Maheshwari\n"
          ]
        }
      ]
    },
    {
      "cell_type": "code",
      "source": [
        "#3.Python is dynamically typed programming language, if you declared a variable, you dont have to specify the variable type,\n",
        "#python will detect the type as soon as the value is created the value in the variable and specify the type.\n",
        "\n",
        "#Example:\n",
        "a = 5\n",
        "a = \"Hello Maheshwari\"\n",
        "#Insights: first we declare 2 in the variable and then a string(\"Hello Maheshwari\") is the same variable, python automaticatlly detect the data type stored in the variable , you do have to explicitly specify the data type.\n"
      ],
      "metadata": {
        "id": "pbvZEKEJJ7Js"
      },
      "execution_count": 50,
      "outputs": []
    },
    {
      "cell_type": "code",
      "source": [
        "\n",
        "#4.Python has a extensive amount of library, it has more than 137,000 libraries, you just have to import the library to use that library.\n",
        "#Example:\n",
        "import random\n",
        "number = random.randint(1, 10)\n",
        "print(number)\n",
        "#Insights: # random is the library which generate ramdom number or specific list,\n",
        "           # randint generates the range of number between 1 to 10\n",
        "           # print will print the generated random number from 1 to 10\n"
      ],
      "metadata": {
        "colab": {
          "base_uri": "https://localhost:8080/"
        },
        "id": "WO7oDPr-Lxs2",
        "outputId": "f84972f1-643c-4878-b618-22557b398c9d"
      },
      "execution_count": 51,
      "outputs": [
        {
          "output_type": "stream",
          "name": "stdout",
          "text": [
            "7\n"
          ]
        }
      ]
    },
    {
      "cell_type": "code",
      "source": [
        "#5.Portability:Python is platform independent which means python can run on any operating system\n",
        "#Example:\n",
        "        # python can run on Window(os)\n",
        "        # also can run on Linux(os) which is an open source os\n",
        "        # can run as well as on Mac(os)\n",
        "#Insights: Python can be installed and run on any (os), specifying the os  Also the bytecode it so produce is not machine specific (processor architecture related) so it can run on any platform or on any processor .\n"
      ],
      "metadata": {
        "id": "koa9v5hMM6WH"
      },
      "execution_count": 52,
      "outputs": []
    },
    {
      "cell_type": "code",
      "source": [
        "#6.Support for Multiple Paradigms: python supports both functional programming as well as object oriented programming.and procedural programming, offering flexibility in how to structure code\n",
        "#Example:\n",
        "# python works with classes as well as with functions\n",
        "#Insights: we can write and run python code with the use of classes as well as with function (which we created)\n",
        "\n",
        "#Insights: This all the points make the python programming language popular and more usable language amongst programmers\n"
      ],
      "metadata": {
        "id": "QQVQJ9I6N8HY"
      },
      "execution_count": 53,
      "outputs": []
    },
    {
      "cell_type": "markdown",
      "source": [
        "**Q.2 :Describe the role of predefined keywords in python and provide examples of how they are used in a program?**\n",
        "\n",
        "Answer:\n",
        "\n",
        "-Predefined keywords in python are the special words, which have its specific role, which control and manage the flow of the program.\n",
        "\n",
        "-Keywords are used to define the syntax of the coding. The keyword cannot be used as an identifier,function, or variable name.\n",
        "\n",
        "-All the keywords in Python are written in lowercase except True and False.\n",
        "\n",
        "-In Python, there is an inbuilt keyword module that provides an iskeyword() function that can be used to check whether a given string is a valid keyword or not.\n",
        "\n",
        "-Furthermore, we can check the name of the keywords in Python by using the kwlist attribute of the keyword module.\n",
        "\n",
        "-keywords contains meaning and functionality and these word cannot be used in vairables"
      ],
      "metadata": {
        "id": "ZUIRMrjFOLLo"
      }
    },
    {
      "cell_type": "code",
      "source": [
        "help('keywords')"
      ],
      "metadata": {
        "colab": {
          "base_uri": "https://localhost:8080/"
        },
        "id": "cnaPImHURtVx",
        "outputId": "90c9bf9a-50e2-47b6-936c-0623b927d5cd"
      },
      "execution_count": 54,
      "outputs": [
        {
          "output_type": "stream",
          "name": "stdout",
          "text": [
            "\n",
            "Here is a list of the Python keywords.  Enter any keyword to get more help.\n",
            "\n",
            "False               class               from                or\n",
            "None                continue            global              pass\n",
            "True                def                 if                  raise\n",
            "and                 del                 import              return\n",
            "as                  elif                in                  try\n",
            "assert              else                is                  while\n",
            "async               except              lambda              with\n",
            "await               finally             nonlocal            yield\n",
            "break               for                 not                 \n",
            "\n"
          ]
        }
      ]
    },
    {
      "cell_type": "markdown",
      "source": [
        "I don't rember all of them but some of them you will encounter more frequently than others.\n",
        "\n",
        "**Control flow keyword**s: if, else, elif, for, while, break, continue\n",
        "\n",
        "**Exception handling:** try, except, finally\n",
        "\n",
        "**Boolean logic:** True, False, None, and, or, not\n",
        "\n",
        "**Function and class definitions:** def, class, return\n",
        "\n",
        "**Importing modules:** import , from"
      ],
      "metadata": {
        "id": "U1RfzToBTQSt"
      }
    },
    {
      "cell_type": "code",
      "source": [
        "#EXAMPLE-\n",
        "# and-\tThis is a logical operator which returns true if both the operands are true else returns false.\n",
        "# not-\tThis is again a logical operator it returns True if the operand is false else returns false.\n",
        "# if-\tThis is used to make a conditional statement.\n",
        "# while-\tThis keyword is used to create a while loop.\n",
        "#if-else, for, while is the syntax definition keywords, it defines the language structure\n",
        "#class, def, return this words cannot be used as variable in python\n",
        "#import keyword provide specific functionality to import an module\n",
        "\n",
        "# EXAMPLE-\n",
        "# code\n",
        "import keyword\n",
        "\n",
        "print(keyword.kwlist)"
      ],
      "metadata": {
        "colab": {
          "base_uri": "https://localhost:8080/"
        },
        "id": "Zxl_XuJgQReb",
        "outputId": "bb61d5b9-ed84-4809-81fe-dfb0c244f120"
      },
      "execution_count": 55,
      "outputs": [
        {
          "output_type": "stream",
          "name": "stdout",
          "text": [
            "['False', 'None', 'True', 'and', 'as', 'assert', 'async', 'await', 'break', 'class', 'continue', 'def', 'del', 'elif', 'else', 'except', 'finally', 'for', 'from', 'global', 'if', 'import', 'in', 'is', 'lambda', 'nonlocal', 'not', 'or', 'pass', 'raise', 'return', 'try', 'while', 'with', 'yield']\n"
          ]
        }
      ]
    },
    {
      "cell_type": "code",
      "source": [
        "#Example:\n",
        "\n",
        "x = 10\n",
        "if x > 5:\n",
        "    print(\"x is greater than 5\")\n",
        "elif x == 5:\n",
        "    print(\"x is equal to 5\")\n",
        "else:\n",
        "    print(\"x is less than 5\")"
      ],
      "metadata": {
        "colab": {
          "base_uri": "https://localhost:8080/"
        },
        "id": "8RgGHpDcRD9e",
        "outputId": "4055ac2a-0bb2-4182-c7d8-c41749929d26"
      },
      "execution_count": 56,
      "outputs": [
        {
          "output_type": "stream",
          "name": "stdout",
          "text": [
            "x is greater than 5\n"
          ]
        }
      ]
    },
    {
      "cell_type": "code",
      "source": [
        "#2.print\n",
        "#Print is a predefined key word in python it prints the following output in the console\n",
        "# Example:\n",
        "print(\"This is a print statement\")\n"
      ],
      "metadata": {
        "colab": {
          "base_uri": "https://localhost:8080/"
        },
        "id": "VMRbMWbAQpI2",
        "outputId": "8c66fe11-86f9-4825-b788-92224ad9a1ec"
      },
      "execution_count": 57,
      "outputs": [
        {
          "output_type": "stream",
          "name": "stdout",
          "text": [
            "This is a print statement\n"
          ]
        }
      ]
    },
    {
      "cell_type": "code",
      "source": [
        "#3.lenght function\n",
        "# lenght is also known as predefined keyword, it returns the length of string, list, etc.\n",
        "a = \"Gauri\"\n",
        "a_length = len(a)\n",
        "print(f\"length of a is {a_length}\")"
      ],
      "metadata": {
        "colab": {
          "base_uri": "https://localhost:8080/"
        },
        "id": "SvF3NAtxRHaC",
        "outputId": "fba13d02-5f6a-415f-df2d-57ff3702b43f"
      },
      "execution_count": 59,
      "outputs": [
        {
          "output_type": "stream",
          "name": "stdout",
          "text": [
            "length of a is 5\n"
          ]
        }
      ]
    },
    {
      "cell_type": "code",
      "source": [
        "#4.type function\n",
        "# Type is also an predefined keyword in python, type keyword returns the type of the data type\n",
        "a = \"Dhanu\"\n",
        "b = 9\n",
        "print(type(f\"data type of a is:{a} and type of b is:{b}\"))\n",
        "\n",
        "#Insights: These are the examples of predefined keywords in python and cannot be used as variable in the program\n"
      ],
      "metadata": {
        "colab": {
          "base_uri": "https://localhost:8080/"
        },
        "id": "q9wDPYiRRLrU",
        "outputId": "ee30fd04-5d1c-4a95-e160-adb63e195b93"
      },
      "execution_count": 58,
      "outputs": [
        {
          "output_type": "stream",
          "name": "stdout",
          "text": [
            "<class 'str'>\n"
          ]
        }
      ]
    },
    {
      "cell_type": "markdown",
      "source": [
        "**Q.3 :Compare and contrast mutable and immutable objects in python with examples?**\n",
        "\n",
        "Answer:  \n",
        "\n",
        "There are **constants** , **variables** and **keyword** in a programming language.\n",
        "\n",
        "**Constants** are what as the name suggests which are always the same , can not be changed. ex like 1, True, 2.4 etc\n",
        "\n",
        "**variables** on the hand are the polar opposite of the constants these are which can change example like a =10 but later i can change it to a = 8\n",
        "\n",
        "In python every thing is an object and what are the variables are labels refering to those objects\n",
        "\n",
        "In Python, objects are classified into two categories **“mutable object** and **immutable objects**” based on whether their values can be modified after creation or not.\n",
        "\n",
        "\n",
        "**1.Mutable Objects**\n",
        "\n",
        "Mutable objects are those whose value can be modified after they are created.\n",
        "\n",
        "Which means we can change the contents of the object without creating a new one.\n",
        "\n",
        "Common Mutable Types are Lists, Dictionaries, Sets.\n",
        "\n",
        "List => [item1, item2]\n",
        "\n",
        "Dictionaries => {'key':value , 'key2':value}\n",
        "\n",
        "Sets => {item1, item2 , item3}\n"
      ],
      "metadata": {
        "id": "CtQ91OOAPCTX"
      }
    },
    {
      "cell_type": "code",
      "source": [
        "#Example:\n",
        "list_1 = [1, 2, 3, 4]\n",
        "list_1.append(5)\n",
        "list_1[0] = 5\n",
        "print(list_1)"
      ],
      "metadata": {
        "colab": {
          "base_uri": "https://localhost:8080/"
        },
        "id": "w7RUsMAgWuYn",
        "outputId": "7413dce6-220e-4604-ef03-73645e9b43d1"
      },
      "execution_count": 60,
      "outputs": [
        {
          "output_type": "stream",
          "name": "stdout",
          "text": [
            "[5, 2, 3, 4, 5]\n"
          ]
        }
      ]
    },
    {
      "cell_type": "code",
      "source": [
        "#dictionary\n",
        "dict = {'name' : 'Gauri', 'age' : 19}\n",
        "dict['age'] = 20\n",
        "dict"
      ],
      "metadata": {
        "colab": {
          "base_uri": "https://localhost:8080/"
        },
        "id": "s57TvNX4XAYT",
        "outputId": "97e5a07b-ae0a-4c2f-a82a-6993e14b8ab7"
      },
      "execution_count": 61,
      "outputs": [
        {
          "output_type": "execute_result",
          "data": {
            "text/plain": [
              "{'name': 'Gauri', 'age': 20}"
            ]
          },
          "metadata": {},
          "execution_count": 61
        }
      ]
    },
    {
      "cell_type": "code",
      "source": [
        "#set\n",
        "set = {1,2,3,4,5}\n",
        "set.add(6)\n",
        "set"
      ],
      "metadata": {
        "colab": {
          "base_uri": "https://localhost:8080/"
        },
        "id": "URz3hF1TXKvg",
        "outputId": "68ca4779-d25b-4a5b-9e90-306448f4e22e"
      },
      "execution_count": 62,
      "outputs": [
        {
          "output_type": "execute_result",
          "data": {
            "text/plain": [
              "{1, 2, 3, 4, 5, 6}"
            ]
          },
          "metadata": {},
          "execution_count": 62
        }
      ]
    },
    {
      "cell_type": "markdown",
      "source": [
        "**2.Immutable objects**\n",
        "Immutable Objects Objects whose value cannot be modified after creation.\n",
        "\n",
        "We cannot modify the value of an immutable object directly after it's created. Even if we try to change it, a new object will be created instead.\n",
        "\n",
        "Examples:\n",
        "Integers (int)\n",
        "\n",
        "Floats (float)\n",
        "\n",
        "Strings (str)\n",
        "\n",
        "Tuples (tuple)\n",
        "\n",
        "Boolean values (bool)\n",
        "\n",
        "NoneType (None)"
      ],
      "metadata": {
        "id": "MVz_VnpZVfyO"
      }
    },
    {
      "cell_type": "code",
      "source": [
        "#Example\n",
        "A = \"Dhanshri\"\n",
        "A[2] = \"m\"\n",
        "#It will show an error"
      ],
      "metadata": {
        "colab": {
          "base_uri": "https://localhost:8080/",
          "height": 193
        },
        "id": "qLlKoY2QXlbN",
        "outputId": "5d7e11fb-8b35-45ac-b5d5-d5b5d38dbeeb"
      },
      "execution_count": 63,
      "outputs": [
        {
          "output_type": "error",
          "ename": "TypeError",
          "evalue": "'str' object does not support item assignment",
          "traceback": [
            "\u001b[0;31m---------------------------------------------------------------------------\u001b[0m",
            "\u001b[0;31mTypeError\u001b[0m                                 Traceback (most recent call last)",
            "\u001b[0;32m<ipython-input-63-9774fde4adfa>\u001b[0m in \u001b[0;36m<cell line: 3>\u001b[0;34m()\u001b[0m\n\u001b[1;32m      1\u001b[0m \u001b[0;31m#Example\u001b[0m\u001b[0;34m\u001b[0m\u001b[0;34m\u001b[0m\u001b[0m\n\u001b[1;32m      2\u001b[0m \u001b[0mA\u001b[0m \u001b[0;34m=\u001b[0m \u001b[0;34m\"Dhanshri\"\u001b[0m\u001b[0;34m\u001b[0m\u001b[0;34m\u001b[0m\u001b[0m\n\u001b[0;32m----> 3\u001b[0;31m \u001b[0mA\u001b[0m\u001b[0;34m[\u001b[0m\u001b[0;36m2\u001b[0m\u001b[0;34m]\u001b[0m \u001b[0;34m=\u001b[0m \u001b[0;34m\"m\"\u001b[0m\u001b[0;34m\u001b[0m\u001b[0;34m\u001b[0m\u001b[0m\n\u001b[0m\u001b[1;32m      4\u001b[0m \u001b[0;31m#It will show an error\u001b[0m\u001b[0;34m\u001b[0m\u001b[0;34m\u001b[0m\u001b[0m\n",
            "\u001b[0;31mTypeError\u001b[0m: 'str' object does not support item assignment"
          ]
        }
      ]
    },
    {
      "cell_type": "code",
      "source": [
        "greet = \"Hello\"\n",
        "greet = greet + \"Maheshwari\"\n",
        "print(greet)"
      ],
      "metadata": {
        "colab": {
          "base_uri": "https://localhost:8080/"
        },
        "id": "XAMvZecQWziR",
        "outputId": "c730426d-fc8b-45d8-d62f-2ded9e1f86a4"
      },
      "execution_count": 64,
      "outputs": [
        {
          "output_type": "stream",
          "name": "stdout",
          "text": [
            "HelloMaheshwari\n"
          ]
        }
      ]
    },
    {
      "cell_type": "code",
      "source": [
        "\"\"\"\n",
        "When we talk in terms of strings,\n",
        "strings are said to be immutable if we try changing a particular character of that string,\n",
        "but they are said to be mutable in the sense that the same variable can be assigned to two different strings at any point in time.\n",
        "\"\"\"\n",
        "\n"
      ],
      "metadata": {
        "colab": {
          "base_uri": "https://localhost:8080/",
          "height": 52
        },
        "id": "Fb8vz9Q4YFxX",
        "outputId": "be5ca001-ee1e-4e59-d919-086dd2389da7"
      },
      "execution_count": 65,
      "outputs": [
        {
          "output_type": "execute_result",
          "data": {
            "text/plain": [
              "'\\nWhen we talk in terms of strings,\\nstrings are said to be immutable if we try changing a particular character of that string,\\nbut they are said to be mutable in the sense that the same variable can be assigned to two different strings at any point in time.\\n'"
            ],
            "application/vnd.google.colaboratory.intrinsic+json": {
              "type": "string"
            }
          },
          "metadata": {},
          "execution_count": 65
        }
      ]
    },
    {
      "cell_type": "markdown",
      "source": [
        "**Q.4 :Discuss the different types of operators in python and provide examples of how they are used?**\n",
        "\n",
        "Answer:\n",
        "Operators plays an very important role in the programming as they brings out result to an expression. Operators are Unary and Binary in nature. Unary meany which only requires a single operand Binary means which operates on two operands\n",
        "\n",
        "~a # is  a unary operator  a + b # + is a binray operator\n",
        "\n",
        "Python divides the operators in the following groups:\n",
        "\n",
        "1.Arithmetic Operators:\n",
        "\n",
        "2.Comparison Operators\n",
        "\n",
        "3.Logical Operators\n",
        "\n",
        "4.Assignment Operators\n",
        "\n",
        "5.Bitwise Operators\n",
        "\n",
        "6.Indentity Operator\n",
        "\n",
        "7.Membership Operator\n",
        "\n",
        "\n",
        "\n",
        "\n"
      ],
      "metadata": {
        "id": "_RtH8Y-oPjMg"
      }
    },
    {
      "cell_type": "code",
      "source": [
        "#1.Arithmetic Operators: are used to perform basic mathematical operations like\n",
        "\"\"\"\n",
        "+ (Addition)\n",
        "\n",
        "- (Subtraction)\n",
        "\n",
        "* (Multiplication)\n",
        "\n",
        "/ (Division)\n",
        "\n",
        "% (Modulus, or remainder)\n",
        "\n",
        "** (Exponentiation)\n",
        "\n",
        "// (Floor Division)\n",
        "\"\"\"\n",
        "#Example of Python Arithmetic Operators\n",
        "a = 21\n",
        "b = 10\n",
        "# Addition\n",
        "print (\"a + b : \", a + b)\n",
        "# Subtraction\n",
        "print (\"a - b : \", a - b)\n",
        "# Multiplication\n",
        "print (\"a * b : \", a * b)\n",
        "# Division\n",
        "print (\"a / b : \", a / b)\n",
        "# Modulus\n",
        "print (\"a % b : \", a % b)\n",
        "# Exponent\n",
        "print (\"a ** b : \", a ** b)\n",
        "# Floor Division\n",
        "print (\"a // b : \", a // b)\n"
      ],
      "metadata": {
        "colab": {
          "base_uri": "https://localhost:8080/"
        },
        "id": "bVpPsZyWaK1_",
        "outputId": "d8488ecb-3b60-4cea-dbcb-e52d355e3de5"
      },
      "execution_count": 67,
      "outputs": [
        {
          "output_type": "stream",
          "name": "stdout",
          "text": [
            "a + b :  31\n",
            "a - b :  11\n",
            "a * b :  210\n",
            "a / b :  2.1\n",
            "a % b :  1\n",
            "a ** b :  16679880978201\n",
            "a // b :  2\n"
          ]
        }
      ]
    },
    {
      "cell_type": "code",
      "source": [
        "#2.Comparison Operators : are used to compare two values. They return \"True and False” based on whether the comparison is true or not.\n",
        "always returns a boolean result\n",
        "\"\"\"\n",
        "== (Equal to)\n",
        "\n",
        "!= (Not equal to)\n",
        "\n",
        "> (Greater than)\n",
        "\n",
        "< (Less than)\n",
        "\n",
        ">= (Greater than or equal to)\n",
        "\n",
        "<= (Less than equal to)\n",
        "\"\"\"\n",
        "# Python Comparison Operators\n",
        "a = 4\n",
        "b = 5\n",
        "# Equal\n",
        "print (\"a == b : \", a == b)\n",
        "# Not Equal\n",
        "print (\"a != b : \", a != b)\n",
        "# Greater Than\n",
        "print (\"a > b : \", a > b)\n",
        "# Less Than\n",
        "print (\"a < b : \", a < b)\n",
        "# Greater Than or Equal to\n",
        "print (\"a >= b : \", a >= b)\n",
        "# Less Than or Equal to\n",
        "print (\"a <= b : \", a <= b)\n"
      ],
      "metadata": {
        "colab": {
          "base_uri": "https://localhost:8080/",
          "height": 106
        },
        "id": "lGIAUV1Eax0u",
        "outputId": "d4325ab5-ad55-4f42-a7f5-a714c8544052"
      },
      "execution_count": 68,
      "outputs": [
        {
          "output_type": "error",
          "ename": "SyntaxError",
          "evalue": "invalid syntax (<ipython-input-68-cf3179def67c>, line 2)",
          "traceback": [
            "\u001b[0;36m  File \u001b[0;32m\"<ipython-input-68-cf3179def67c>\"\u001b[0;36m, line \u001b[0;32m2\u001b[0m\n\u001b[0;31m    always returns a boolean result\u001b[0m\n\u001b[0m           ^\u001b[0m\n\u001b[0;31mSyntaxError\u001b[0m\u001b[0;31m:\u001b[0m invalid syntax\n"
          ]
        }
      ]
    },
    {
      "cell_type": "code",
      "source": [
        "#3.Logical Operators:are used to combine conditional statements. They allow you to make decisions based on multiple conditions by using the (and, or, not) operator.\n",
        "'''\n",
        "and (Logical AND)\n",
        "\n",
        "or (Logical OR)\n",
        "\n",
        "not (Logical NOT)\n",
        "\n",
        "__ logical and__ returns the first falsy value , if not than the value of the last operand\n",
        "\n",
        "__logical or __ returns the first truthy value if not thant he last value what so ever\n",
        "\n",
        "'''\n",
        "x = 5\n",
        "y = 10\n",
        "if x > 3 and y < 15:\n",
        "  print(\"Both x and y are within the specified range\")\n"
      ],
      "metadata": {
        "colab": {
          "base_uri": "https://localhost:8080/"
        },
        "id": "53ayQtrGbE5s",
        "outputId": "b4313878-56ee-4061-cbff-5c091d9fbe84"
      },
      "execution_count": 69,
      "outputs": [
        {
          "output_type": "stream",
          "name": "stdout",
          "text": [
            "Both x and y are within the specified range\n"
          ]
        }
      ]
    },
    {
      "cell_type": "code",
      "source": [
        "#4.Assignment Operators :are used to assign values to variables, They combine the assignment operation (=) with another operation.\n",
        "\"\"\"\n",
        "= (Assign)\n",
        "+= (Add and assign)\n",
        "-= (Subtract and assign)\n",
        "*= (Multiply and assign)\n",
        "/= (Divide and assign)\n",
        "%= (Modulus and assign)\n",
        "**= (Exponentiation and assign)\n",
        "//= (Floor division and assign)\n",
        "\n",
        "\"\"\"\n",
        "# Assignment Operator\n",
        "a = 10\n",
        "# Addition Assignment\n",
        "a += 5\n",
        "print (\"a += 5 : \", a)\n",
        "# Subtraction Assignment\n",
        "a -= 5\n",
        "print (\"a -= 5 : \", a)\n",
        "# Multiplication Assignment\n",
        "a *= 5\n",
        "print (\"a *= 5 : \", a)\n",
        "# Division Assignment\n",
        "a /= 5\n",
        "print (\"a /= 5 : \",a)\n",
        "# Remainder Assignment\n",
        "a %= 3\n",
        "print (\"a %= 3 : \", a)\n",
        "# Exponent Assignment\n",
        "a **= 2\n",
        "print (\"a **= 2 : \", a)\n",
        "# Floor Division Assignment\n",
        "a //= 3\n",
        "print (\"a //= 3 : \", a)"
      ],
      "metadata": {
        "colab": {
          "base_uri": "https://localhost:8080/"
        },
        "id": "T2mld_wFcOYN",
        "outputId": "7640289a-3eb0-4e65-ce10-019cb2a6efc8"
      },
      "execution_count": 70,
      "outputs": [
        {
          "output_type": "stream",
          "name": "stdout",
          "text": [
            "a += 5 :  15\n",
            "a -= 5 :  10\n",
            "a *= 5 :  50\n",
            "a /= 5 :  10.0\n",
            "a %= 3 :  1.0\n",
            "a **= 2 :  1.0\n",
            "a //= 3 :  0.0\n"
          ]
        }
      ]
    },
    {
      "cell_type": "code",
      "source": [
        "#5.Bitwise Operators\n",
        "a = 60 # 60 = 0011 1100\n",
        "b = 13 # 13 = 0000 1101\n",
        "# Binary AND\n",
        "c = a & b # 12 = 0000 1100\n",
        "print (\"a & b : \", c)\n",
        "# Binary OR\n",
        "c = a | b # 61 = 0011 1101\n",
        "print (\"a | b : \", c)\n",
        "# Binary XOR\n",
        "c = a ^ b # 49 = 0011 0001\n",
        "print (\"a ^ b : \", c)\n",
        "# Binary Ones Complement\n",
        "c = ~a; # -61 = 1100 0011\n",
        "print (\"~a : \", c)\n",
        "# Binary Left Shift\n",
        "c = a << 2; # 240 = 1111 0000\n",
        "print (\"a << 2 : \", c)\n",
        "# Binary Right Shift\n",
        "c = a >> 2; # 15 = 0000 1111\n",
        "print (\"a >> 2 : \", c)"
      ],
      "metadata": {
        "colab": {
          "base_uri": "https://localhost:8080/"
        },
        "id": "lUpS9uzpcRxS",
        "outputId": "42f64c57-30ce-46e0-a837-7a08f0fdb341"
      },
      "execution_count": 71,
      "outputs": [
        {
          "output_type": "stream",
          "name": "stdout",
          "text": [
            "a & b :  12\n",
            "a | b :  61\n",
            "a ^ b :  49\n",
            "~a :  -61\n",
            "a << 2 :  240\n",
            "a >> 2 :  15\n"
          ]
        }
      ]
    },
    {
      "cell_type": "code",
      "source": [
        "#6.Python Indentity Operator: are used to compare the location of two objects or variables by using (is, is not) used to compare the memory of the two objects\n",
        "\"\"\"\n",
        "is\n",
        "is not\n",
        "\"\"\"\n",
        "x = 10\n",
        "y = 5\n",
        "if x is y:\n",
        "    print(\"x and y are the same object\")\n",
        "else:\n",
        "    print(\"x and y are not the same object\")"
      ],
      "metadata": {
        "colab": {
          "base_uri": "https://localhost:8080/"
        },
        "id": "Z27vIvUedfSG",
        "outputId": "616410da-f9c0-416b-efb1-c7dc2bfdc9a2"
      },
      "execution_count": 72,
      "outputs": [
        {
          "output_type": "stream",
          "name": "stdout",
          "text": [
            "x and y are not the same object\n"
          ]
        }
      ]
    },
    {
      "cell_type": "code",
      "source": [
        "#7.Python Membership Operator: are used to test if a sequence is presented in an object like a list, tuple, string, or dictionary.\n",
        "\"\"\"\n",
        "in\n",
        "not in\n",
        "\"\"\"\n",
        "basically for list, tuple or string\n",
        "fruits = [\"apple\", \"banana\", \"cherry\"]\n",
        "if \"banana\" in fruits:\n",
        "    print(\"Yes, banana is a fruit!\")\n",
        "else:\n",
        "    print(\"No, banana is not a fruit!\")"
      ],
      "metadata": {
        "colab": {
          "base_uri": "https://localhost:8080/",
          "height": 106
        },
        "id": "QkZ_hUKZdRow",
        "outputId": "ca38fcae-3d9d-4e8e-ecae-34e9bd43d9aa"
      },
      "execution_count": 73,
      "outputs": [
        {
          "output_type": "error",
          "ename": "SyntaxError",
          "evalue": "invalid syntax (<ipython-input-73-3c672da45b4b>, line 6)",
          "traceback": [
            "\u001b[0;36m  File \u001b[0;32m\"<ipython-input-73-3c672da45b4b>\"\u001b[0;36m, line \u001b[0;32m6\u001b[0m\n\u001b[0;31m    basically for list, tuple or string\u001b[0m\n\u001b[0m              ^\u001b[0m\n\u001b[0;31mSyntaxError\u001b[0m\u001b[0;31m:\u001b[0m invalid syntax\n"
          ]
        }
      ]
    },
    {
      "cell_type": "markdown",
      "source": [
        "**Q.5 :Explain the concept of type casting in python with examples?**\n",
        "\n",
        "Answer:\n"
      ],
      "metadata": {
        "id": "8YcCt9maPVNF"
      }
    },
    {
      "cell_type": "code",
      "source": [
        "\n",
        "# Explain the concept of type casting in Python with examples.\n",
        "\n",
        "# Type Casting is the method to convert the Python variable datatype into a certain data type in order to perform\n",
        "# the required operation by users. In this article, we will see the various techniques for typecasting.\n",
        "# There can be two types of Type Casting in Python:\n",
        "\n",
        "#1---  Python Implicit Type Conversion\n",
        "#2---  Python Explicit Type Conversion\n",
        "\n",
        "#EX- CODE-\n",
        "             # Python program to demonstrate\n",
        "# implicit type Casting\n",
        "\n",
        "# Python automatically converts\n",
        "# a to int\n",
        "a = 7\n",
        "print(type(a))\n",
        "\n",
        "# Python automatically converts\n",
        "# b to float\n",
        "b = 3.0\n",
        "print(type(b))\n",
        "\n",
        "# Python automatically converts\n",
        "# c to float as it is a float addition\n",
        "c = a + b\n",
        "print(c)\n",
        "print(type(c))\n",
        "\n",
        "# Python automatically converts\n",
        "# d to float as it is a float multiplication\n",
        "d = a * b\n",
        "print(d)\n",
        "print(type(d))\n"
      ],
      "metadata": {
        "colab": {
          "base_uri": "https://localhost:8080/"
        },
        "id": "z76S7Z3seSex",
        "outputId": "7729e28c-b029-4452-bc5d-312b38c5213b"
      },
      "execution_count": 74,
      "outputs": [
        {
          "output_type": "stream",
          "name": "stdout",
          "text": [
            "<class 'int'>\n",
            "<class 'float'>\n",
            "10.0\n",
            "<class 'float'>\n",
            "21.0\n",
            "<class 'float'>\n"
          ]
        }
      ]
    },
    {
      "cell_type": "markdown",
      "source": [
        "**Q.6 :How do conditional statements work in python? Illustrate with examples.**\n",
        "\n",
        "Answer:\n",
        "\n"
      ],
      "metadata": {
        "id": "TA27SJDkPR87"
      }
    },
    {
      "cell_type": "code",
      "source": [
        "\n",
        "# Conditional Statements are statements in Python that provide a choice for the control flow based on a condition.\n",
        "# It means that the control flow of the Python program will be decided based on the outcome of the condition.\n",
        "# Now let us see how Conditional Statements are implemented in Python.\n",
        "\n",
        "\n",
        "# If Conditional Statement in Python\n",
        "# If the simple code of block is to be performed if the condition holds then the if statement is used.\n",
        "# Here the condition mentioned holds then the code of the block runs otherwise not.\n",
        "\n",
        "#  Syntax of If Statement:\n",
        "\n",
        "#if condition:\n",
        "    # Statements to execute if\n",
        "    # condition is true\n",
        "\n",
        "    # if statement example\n",
        "\n",
        "if 10 > 5:\n",
        "    print(\"10 greater than 5\")\n",
        "\n",
        "print(\"Program ended\")\n",
        "\n",
        "\n",
        "\n"
      ],
      "metadata": {
        "colab": {
          "base_uri": "https://localhost:8080/"
        },
        "id": "KhSZsWaYeXll",
        "outputId": "f2069aa2-ed93-46ce-a739-409770503141"
      },
      "execution_count": 79,
      "outputs": [
        {
          "output_type": "stream",
          "name": "stdout",
          "text": [
            "10 greater than 5\n",
            "Program ended\n"
          ]
        }
      ]
    },
    {
      "cell_type": "markdown",
      "source": [
        "**Q.7 : Describe the different types of loops in python and their use cases with example.**\n",
        "\n",
        "Answer:\n"
      ],
      "metadata": {
        "id": "UKjWlVp3PME7"
      }
    },
    {
      "cell_type": "code",
      "source": [
        "#  While Loop in Python-------\n",
        "\n",
        "#  In Python, a while loop is used to execute a block of statements repeatedly until a given condition is satisfied.\n",
        "#  When the condition becomes false, the line immediately after the loop in the program is executed.\n",
        "\n",
        "#  Python While Loop Syntax:\n",
        "  #                                while expression:\n",
        "  #                                  statement(s)\n",
        "\n",
        "# EXAMPLE------\n",
        "count = 0\n",
        "while (count < 3):\n",
        "    count = count + 1\n",
        "    print(\"Hello Mahi\")\n",
        "\n",
        "\n",
        "# For Loop in Python-------\n",
        "\n",
        "# For loops are used for sequential traversal. For example: traversing a list or string or array etc.\n",
        "# In Python, there is “for in” loop which is similar to foreach loop in other languages.\n",
        "\n",
        "# EXAMPLE----\n",
        "n = 4\n",
        "for i in range(0, n):\n",
        "    print(i)\n",
        "\n",
        "\n",
        "#Using else Statement with for Loop in Python-------\n",
        "\n",
        "#We can also combine else statement with for loop like in while loop. But as there is no condition in for loop\n",
        "#based on which the execution will terminate so the else block will be executed immediately after for block finishes\n",
        "#execution.\n",
        "\n",
        "# EXAMPLE---\n",
        "list = [\"pw\", \"data\", \"sciences\"]\n",
        "for index in range(len(list)):\n",
        "    print(list[index])\n",
        "else:\n",
        "    print(\"Inside Else Block\")\n",
        "\n"
      ],
      "metadata": {
        "colab": {
          "base_uri": "https://localhost:8080/"
        },
        "id": "m1KaDEdlefH_",
        "outputId": "e0f35590-155a-4b3f-f90f-e7315ba4a939"
      },
      "execution_count": 76,
      "outputs": [
        {
          "output_type": "stream",
          "name": "stdout",
          "text": [
            "Hello Mahi\n",
            "Hello Mahi\n",
            "Hello Mahi\n",
            "0\n",
            "1\n",
            "2\n",
            "3\n",
            "pw\n",
            "data\n",
            "sciences\n",
            "Inside Else Block\n"
          ]
        }
      ]
    }
  ]
}